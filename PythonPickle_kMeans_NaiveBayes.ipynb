{
 "cells": [
  {
   "cell_type": "markdown",
   "metadata": {},
   "source": [
    "### Your Name: Barbara Karakyriakou\n",
    "### CSCI E-29"
   ]
  },
  {
   "cell_type": "markdown",
   "metadata": {},
   "source": [
    "## Question 1: Engineer\n",
    "### 5 points (1 + 2 + 1)\n",
    "\n",
    "I pickled you a dataframe object and saved it as areas.pkl\n",
    "Pickling is a very useful tool in Python.  You can save the state of any object with pickling and load it back in the exact same state.  i.e. I can pickle a dictionary and send it to you in an email, you can unpickle it and it will be a ready to use dictionary.\n",
    "Many of you know this from my previous class E7, but you probably don't know that pandas has a convenient way to pickle and unpickle dataframes.  Learn about this and load the areas.pkl into a dataframe called areas."
   ]
  },
  {
   "cell_type": "code",
   "execution_count": 1,
   "metadata": {},
   "outputs": [],
   "source": [
    "import pandas as pd\n",
    "import pickle\n",
    "import random \n",
    "import numpy as np\n",
    "%matplotlib inline\n",
    "import matplotlib.pyplot as plt\n",
    "import seaborn as sns"
   ]
  },
  {
   "cell_type": "markdown",
   "metadata": {},
   "source": [
    "### Question 1.1\n",
    "### 1 point\n",
    "Load the areas.pkl file into a dataframe and examine the head of the df."
   ]
  },
  {
   "cell_type": "code",
   "execution_count": 2,
   "metadata": {},
   "outputs": [
    {
     "data": {
      "text/html": [
       "<div>\n",
       "<style scoped>\n",
       "    .dataframe tbody tr th:only-of-type {\n",
       "        vertical-align: middle;\n",
       "    }\n",
       "\n",
       "    .dataframe tbody tr th {\n",
       "        vertical-align: top;\n",
       "    }\n",
       "\n",
       "    .dataframe thead th {\n",
       "        text-align: right;\n",
       "    }\n",
       "</style>\n",
       "<table border=\"1\" class=\"dataframe\">\n",
       "  <thead>\n",
       "    <tr style=\"text-align: right;\">\n",
       "      <th></th>\n",
       "      <th>areas</th>\n",
       "      <th>lab_areas</th>\n",
       "    </tr>\n",
       "  </thead>\n",
       "  <tbody>\n",
       "    <tr>\n",
       "      <th>0</th>\n",
       "      <td>Area 5</td>\n",
       "      <td>5</td>\n",
       "    </tr>\n",
       "    <tr>\n",
       "      <th>1</th>\n",
       "      <td>Area 6</td>\n",
       "      <td>6</td>\n",
       "    </tr>\n",
       "    <tr>\n",
       "      <th>2</th>\n",
       "      <td>Area 8</td>\n",
       "      <td>8</td>\n",
       "    </tr>\n",
       "    <tr>\n",
       "      <th>3</th>\n",
       "      <td>Area 8</td>\n",
       "      <td>8</td>\n",
       "    </tr>\n",
       "    <tr>\n",
       "      <th>4</th>\n",
       "      <td>Area 7</td>\n",
       "      <td>7</td>\n",
       "    </tr>\n",
       "  </tbody>\n",
       "</table>\n",
       "</div>"
      ],
      "text/plain": [
       "    areas  lab_areas\n",
       "0  Area 5          5\n",
       "1  Area 6          6\n",
       "2  Area 8          8\n",
       "3  Area 8          8\n",
       "4  Area 7          7"
      ]
     },
     "execution_count": 2,
     "metadata": {},
     "output_type": "execute_result"
    }
   ],
   "source": [
    "#your code here\n",
    "areas = pd.read_pickle('areas.pkl', compression='infer')\n",
    "areas.head()"
   ]
  },
  {
   "cell_type": "markdown",
   "metadata": {},
   "source": [
    "### Question 1.2\n",
    "\n",
    "It looks like I tried to engineer a feature called lab_areas from areas.  Why can I not use this feature as is?\n",
    "### 2 points\n",
    "\n",
    "YOUR ANSWER: It looks like each area is represented by its numerical value in the lab_areas column, which can lead into making arithmetic calculations on the data that will make no sense, or that we are not interested in learning."
   ]
  },
  {
   "cell_type": "markdown",
   "metadata": {},
   "source": [
    "### Question 1.3\n",
    "### 2 points\n",
    "Fix this problem that lab_areas has.  \n",
    "Note: Use the tool that you think is best to fix this and do not discuss on Piazza.\n",
    "Output the head of your fixed dataframe."
   ]
  },
  {
   "cell_type": "code",
   "execution_count": 3,
   "metadata": {},
   "outputs": [
    {
     "data": {
      "text/html": [
       "<div>\n",
       "<style scoped>\n",
       "    .dataframe tbody tr th:only-of-type {\n",
       "        vertical-align: middle;\n",
       "    }\n",
       "\n",
       "    .dataframe tbody tr th {\n",
       "        vertical-align: top;\n",
       "    }\n",
       "\n",
       "    .dataframe thead th {\n",
       "        text-align: right;\n",
       "    }\n",
       "</style>\n",
       "<table border=\"1\" class=\"dataframe\">\n",
       "  <thead>\n",
       "    <tr style=\"text-align: right;\">\n",
       "      <th></th>\n",
       "      <th>Area 10</th>\n",
       "      <th>Area 2</th>\n",
       "      <th>Area 3</th>\n",
       "      <th>Area 4</th>\n",
       "      <th>Area 5</th>\n",
       "      <th>Area 6</th>\n",
       "      <th>Area 7</th>\n",
       "      <th>Area 8</th>\n",
       "      <th>Area 9</th>\n",
       "    </tr>\n",
       "  </thead>\n",
       "  <tbody>\n",
       "    <tr>\n",
       "      <th>0</th>\n",
       "      <td>0</td>\n",
       "      <td>0</td>\n",
       "      <td>0</td>\n",
       "      <td>0</td>\n",
       "      <td>1</td>\n",
       "      <td>0</td>\n",
       "      <td>0</td>\n",
       "      <td>0</td>\n",
       "      <td>0</td>\n",
       "    </tr>\n",
       "    <tr>\n",
       "      <th>1</th>\n",
       "      <td>0</td>\n",
       "      <td>0</td>\n",
       "      <td>0</td>\n",
       "      <td>0</td>\n",
       "      <td>0</td>\n",
       "      <td>1</td>\n",
       "      <td>0</td>\n",
       "      <td>0</td>\n",
       "      <td>0</td>\n",
       "    </tr>\n",
       "    <tr>\n",
       "      <th>2</th>\n",
       "      <td>0</td>\n",
       "      <td>0</td>\n",
       "      <td>0</td>\n",
       "      <td>0</td>\n",
       "      <td>0</td>\n",
       "      <td>0</td>\n",
       "      <td>0</td>\n",
       "      <td>1</td>\n",
       "      <td>0</td>\n",
       "    </tr>\n",
       "    <tr>\n",
       "      <th>3</th>\n",
       "      <td>0</td>\n",
       "      <td>0</td>\n",
       "      <td>0</td>\n",
       "      <td>0</td>\n",
       "      <td>0</td>\n",
       "      <td>0</td>\n",
       "      <td>0</td>\n",
       "      <td>1</td>\n",
       "      <td>0</td>\n",
       "    </tr>\n",
       "    <tr>\n",
       "      <th>4</th>\n",
       "      <td>0</td>\n",
       "      <td>0</td>\n",
       "      <td>0</td>\n",
       "      <td>0</td>\n",
       "      <td>0</td>\n",
       "      <td>0</td>\n",
       "      <td>1</td>\n",
       "      <td>0</td>\n",
       "      <td>0</td>\n",
       "    </tr>\n",
       "  </tbody>\n",
       "</table>\n",
       "</div>"
      ],
      "text/plain": [
       "   Area 10  Area 2  Area 3  Area 4  Area 5  Area 6  Area 7  Area 8  Area 9\n",
       "0        0       0       0       0       1       0       0       0       0\n",
       "1        0       0       0       0       0       1       0       0       0\n",
       "2        0       0       0       0       0       0       0       1       0\n",
       "3        0       0       0       0       0       0       0       1       0\n",
       "4        0       0       0       0       0       0       1       0       0"
      ]
     },
     "execution_count": 3,
     "metadata": {},
     "output_type": "execute_result"
    }
   ],
   "source": [
    "### YOUR CODE HERE\n",
    "areas = pd.get_dummies(areas['areas'], drop_first=True)\n",
    "areas.head()"
   ]
  },
  {
   "cell_type": "markdown",
   "metadata": {},
   "source": [
    "## Question 2 KMeans\n",
    "\n",
    "### 10 points (1 + 1 + 1 + 1 + 1 + 2.5 + 2.5)\n",
    "\n",
    "I randomly generated two feature data, created an ndarray and dumped the data in the file \"random.pkl\" using the following command:\n",
    "https://docs.scipy.org/doc/numpy-1.14.0/reference/generated/numpy.ndarray.dump.html"
   ]
  },
  {
   "cell_type": "markdown",
   "metadata": {},
   "source": [
    "### Question 2.1\n",
    "### 1 point\n",
    "random.pkl is an nd array.\n",
    "Load it back and assign it to the variable data."
   ]
  },
  {
   "cell_type": "code",
   "execution_count": 4,
   "metadata": {},
   "outputs": [],
   "source": [
    "#YOUR CODE HERE\n",
    "data = pickle.load(open('random.pkl', 'rb'))"
   ]
  },
  {
   "cell_type": "markdown",
   "metadata": {},
   "source": [
    "### Question 2.2\n",
    "### 1  points\n",
    "Using the seaborn library violin plots, plot data."
   ]
  },
  {
   "cell_type": "code",
   "execution_count": 5,
   "metadata": {},
   "outputs": [
    {
     "data": {
      "text/plain": [
       "<matplotlib.axes._subplots.AxesSubplot at 0x1a14fc47f0>"
      ]
     },
     "execution_count": 5,
     "metadata": {},
     "output_type": "execute_result"
    },
    {
     "data": {
      "image/png": "[encoded data removed]",
      "text/plain": [
       "<matplotlib.figure.Figure at 0x1a14fc1128>"
      ]
     },
     "metadata": {},
     "output_type": "display_data"
    }
   ],
   "source": [
    "# Use the Seaborn library to visualize the data using a violin plot\n",
    "\n",
    "sns.violinplot(data=data)"
   ]
  },
  {
   "cell_type": "markdown",
   "metadata": {},
   "source": [
    "### Question 2.3\n",
    "### 1  point\n",
    "Why shouldn't we use the data as is to do K-means clustering?\n",
    "\n",
    "YOUR ANSWER: They are in different scales, and we may get biased results since K-means clustering is based on distances. For example, one measure that is used for similarity between objects is Euclidean Distance. In this example, with the data being in two different scales there is a risk that the same importance will not be given to all the data, therefore it is necessary to bring them in the same scale before we apply K-means clustering."
   ]
  },
  {
   "cell_type": "markdown",
   "metadata": {},
   "source": [
    "### Question 2.4\n",
    "### 1  point\n",
    "Use a Standard Scaler to scale data and asign the scaled data to a variable called scaled"
   ]
  },
  {
   "cell_type": "code",
   "execution_count": 6,
   "metadata": {},
   "outputs": [],
   "source": [
    "#YOUR CODE HERE\n",
    "from sklearn.preprocessing import StandardScaler\n",
    "\n",
    "scaler = StandardScaler()\n",
    "scaled_data= scaler.fit_transform(data)"
   ]
  },
  {
   "cell_type": "markdown",
   "metadata": {},
   "source": [
    "### Question 2.5\n",
    "### 1  point\n",
    "Use the same code as above on the scaled data.  If you rescaled it succesfully, your features should be on the same scale and you should now be ready for the next step."
   ]
  },
  {
   "cell_type": "code",
   "execution_count": 7,
   "metadata": {},
   "outputs": [
    {
     "data": {
      "text/plain": [
       "<matplotlib.axes._subplots.AxesSubplot at 0x1a1de95d30>"
      ]
     },
     "execution_count": 7,
     "metadata": {},
     "output_type": "execute_result"
    },
    {
     "data": {
      "image/png": "[encoded data removed]",
      "text/plain": [
       "<matplotlib.figure.Figure at 0x1a150204e0>"
      ]
     },
     "metadata": {},
     "output_type": "display_data"
    }
   ],
   "source": [
    "sns.violinplot(data=scaled_data)"
   ]
  },
  {
   "cell_type": "markdown",
   "metadata": {},
   "source": [
    "### Question 2.6\n",
    "### 2.5  points\n",
    "I want to cluster the data but don't know which K to pick.  Figure out a way to choose K.\n",
    "What is your K and Why?\n",
    "\n",
    "#Hint: Use your scaled data.\n",
    "\n",
    "#### YOUR ANSWER HERE: Using the elbow graph method, I plotted the inertia and distortion values (sum of square distances and sum of square euclidean distances respectively of each point to each cluster center) against cluster counts from 1 to 15. Both graphs demonstrate a relatively sharp inflection at 4 clusters, therefore K must be 4.\n",
    "\n",
    "USE THE FOLLOWING CODE CELL TO GET TO YOUR ANSWER."
   ]
  },
  {
   "cell_type": "code",
   "execution_count": 8,
   "metadata": {},
   "outputs": [
    {
     "data": {
      "image/png": "[encoded data removed]",
      "text/plain": [
       "<matplotlib.figure.Figure at 0x1a1df8ee48>"
      ]
     },
     "metadata": {},
     "output_type": "display_data"
    }
   ],
   "source": [
    "#YOUR CODE HERE\n",
    "from sklearn.cluster import KMeans\n",
    "from scipy.spatial.distance import cdist\n",
    "\n",
    "n_clust = range(1,16)\n",
    "\n",
    "#list comprehension to get the kmeans list of each cluster count\n",
    "kmeans = [KMeans(n_clusters=i).fit(scaled_data) for i in n_clust] \n",
    "#list comprehension to get the list of centroids for each kmeans\n",
    "centroids = [kmeans[i].cluster_centers_ for i in range(0,len(kmeans))] \n",
    "\n",
    "#loop to calculate the distortions for each cluster count\n",
    "distortions = []\n",
    "for i in range(0,len(kmeans)):\n",
    "    distortions.append(sum(np.min(cdist(scaled_data, centroids[i], 'sqeuclidean'), axis=1)) \\\n",
    "                       / scaled_data.shape[0])\n",
    "\n",
    "# list comprehension to get the list of inertias for each cluster count   \n",
    "inertias =  [kmeans[i].inertia_ for i in range(0,len(kmeans))]\n",
    "\n",
    "# plot side by side the cluster counts against the distortions and against the inertias \n",
    "# to visualize the \"elbow\" graph and locate the nubler of cluster were the inflection is rather sharp \n",
    "\n",
    "plt.figure(figsize=(15, 5))\n",
    "\n",
    "plt.subplot(1,2,1)\n",
    "plt.scatter(n_clust,distortions, color = \"green\")\n",
    "plt.plot(n_clust, distortions, color = \"purple\")\n",
    "# plot Labels\n",
    "plt.title(\"Distortions vs # of Clusters\")\n",
    "plt.xlabel(\"Number of Clusters\")\n",
    "plt.ylabel(\"Distortions\")\n",
    "\n",
    "\n",
    "plt.subplot(1,2,2)\n",
    "plt.scatter(n_clust,inertias, color = \"green\")\n",
    "plt.plot(n_clust, inertias, color = \"purple\")\n",
    "# plot Labels\n",
    "plt.title(\"Inertias vs # of Clusters\")\n",
    "plt.xlabel(\"Number of Clusters\")\n",
    "plt.ylabel(\"Inertias\") \n",
    "\n",
    "plt.show()"
   ]
  },
  {
   "cell_type": "markdown",
   "metadata": {},
   "source": [
    "### Question 2.7\n",
    "### 2.5  points\n",
    "\n",
    "Let's see if you picked correctly.  \n",
    "\n",
    "Use KMeans clustering with the number of clusters you decided to pick.\n",
    "\n",
    "Use Matplotlib to display your scaled data and set c to be equal to your model.labels_\n",
    "\n",
    "Display the plot.\n",
    "\n",
    "How many clusters do you observe? 4\n"
   ]
  },
  {
   "cell_type": "code",
   "execution_count": 9,
   "metadata": {},
   "outputs": [
    {
     "data": {
      "image/png": "[encoded data removed]",
      "text/plain": [
       "<matplotlib.figure.Figure at 0x1a1df1e7b8>"
      ]
     },
     "metadata": {},
     "output_type": "display_data"
    }
   ],
   "source": [
    "#YOUR CODE HERE\n",
    "km = KMeans(n_clusters=4)\n",
    "labels = km.fit_predict(scaled_data)\n",
    "\n",
    "plt.scatter(scaled_data[:,0], scaled_data[:,1], c=labels)\n",
    "plt.show()"
   ]
  },
  {
   "cell_type": "markdown",
   "metadata": {},
   "source": [
    "## Question 3 Is my Blue German SUV safe?\n",
    "### 5 points\n",
    "\n",
    "Load the stolen.csv file in a dataframe called stolen.\n",
    "Here we have some simple data records on stolen cars.\n",
    "I happen to drive a Blue German SUV.  Will it get stolen or am I safe?\n",
    "\n",
    "Hint: This is a Bayesian problem, you don't have to do it by hand.  A clever quick manipulation makes this particularly suitable for one of the Bayesian classifiers. No need to train test split, just train and predict.\n",
    "You will get full credit if you do it by hand too.\n",
    "\n",
    "YOUR ANSWER HERE:"
   ]
  },
  {
   "cell_type": "code",
   "execution_count": 10,
   "metadata": {},
   "outputs": [
    {
     "data": {
      "text/html": [
       "<div>\n",
       "<style scoped>\n",
       "    .dataframe tbody tr th:only-of-type {\n",
       "        vertical-align: middle;\n",
       "    }\n",
       "\n",
       "    .dataframe tbody tr th {\n",
       "        vertical-align: top;\n",
       "    }\n",
       "\n",
       "    .dataframe thead th {\n",
       "        text-align: right;\n",
       "    }\n",
       "</style>\n",
       "<table border=\"1\" class=\"dataframe\">\n",
       "  <thead>\n",
       "    <tr style=\"text-align: right;\">\n",
       "      <th></th>\n",
       "      <th>color</th>\n",
       "      <th>type</th>\n",
       "      <th>make</th>\n",
       "      <th>stolen</th>\n",
       "    </tr>\n",
       "  </thead>\n",
       "  <tbody>\n",
       "    <tr>\n",
       "      <th>0</th>\n",
       "      <td>Blue</td>\n",
       "      <td>Turbo</td>\n",
       "      <td>German</td>\n",
       "      <td>Yes</td>\n",
       "    </tr>\n",
       "    <tr>\n",
       "      <th>1</th>\n",
       "      <td>Blue</td>\n",
       "      <td>Turbo</td>\n",
       "      <td>German</td>\n",
       "      <td>No</td>\n",
       "    </tr>\n",
       "    <tr>\n",
       "      <th>2</th>\n",
       "      <td>Blue</td>\n",
       "      <td>Turbo</td>\n",
       "      <td>German</td>\n",
       "      <td>Yes</td>\n",
       "    </tr>\n",
       "    <tr>\n",
       "      <th>3</th>\n",
       "      <td>Yellow</td>\n",
       "      <td>Turbo</td>\n",
       "      <td>German</td>\n",
       "      <td>No</td>\n",
       "    </tr>\n",
       "    <tr>\n",
       "      <th>4</th>\n",
       "      <td>Yellow</td>\n",
       "      <td>Turbo</td>\n",
       "      <td>Italian</td>\n",
       "      <td>Yes</td>\n",
       "    </tr>\n",
       "    <tr>\n",
       "      <th>5</th>\n",
       "      <td>Yellow</td>\n",
       "      <td>SUV</td>\n",
       "      <td>Italian</td>\n",
       "      <td>No</td>\n",
       "    </tr>\n",
       "    <tr>\n",
       "      <th>6</th>\n",
       "      <td>Yellow</td>\n",
       "      <td>SUV</td>\n",
       "      <td>Italian</td>\n",
       "      <td>Yes</td>\n",
       "    </tr>\n",
       "    <tr>\n",
       "      <th>7</th>\n",
       "      <td>Yellow</td>\n",
       "      <td>SUV</td>\n",
       "      <td>German</td>\n",
       "      <td>No</td>\n",
       "    </tr>\n",
       "    <tr>\n",
       "      <th>8</th>\n",
       "      <td>Blue</td>\n",
       "      <td>SUV</td>\n",
       "      <td>Italian</td>\n",
       "      <td>No</td>\n",
       "    </tr>\n",
       "    <tr>\n",
       "      <th>9</th>\n",
       "      <td>Blue</td>\n",
       "      <td>Turbo</td>\n",
       "      <td>Italian</td>\n",
       "      <td>Yes</td>\n",
       "    </tr>\n",
       "  </tbody>\n",
       "</table>\n",
       "</div>"
      ],
      "text/plain": [
       "    color   type     make stolen\n",
       "0    Blue  Turbo   German    Yes\n",
       "1    Blue  Turbo   German     No\n",
       "2    Blue  Turbo   German    Yes\n",
       "3  Yellow  Turbo   German     No\n",
       "4  Yellow  Turbo  Italian    Yes\n",
       "5  Yellow    SUV  Italian     No\n",
       "6  Yellow    SUV  Italian    Yes\n",
       "7  Yellow    SUV   German     No\n",
       "8    Blue    SUV  Italian     No\n",
       "9    Blue  Turbo  Italian    Yes"
      ]
     },
     "execution_count": 10,
     "metadata": {},
     "output_type": "execute_result"
    }
   ],
   "source": [
    "#Load the stolen dataset here\n",
    "#YOUR CODE HERE\n",
    "stolen  = pd.read_csv('stolen.csv')\n",
    "stolen"
   ]
  },
  {
   "cell_type": "code",
   "execution_count": 11,
   "metadata": {},
   "outputs": [
    {
     "data": {
      "text/html": [
       "<div>\n",
       "<style scoped>\n",
       "    .dataframe tbody tr th:only-of-type {\n",
       "        vertical-align: middle;\n",
       "    }\n",
       "\n",
       "    .dataframe tbody tr th {\n",
       "        vertical-align: top;\n",
       "    }\n",
       "\n",
       "    .dataframe thead th {\n",
       "        text-align: right;\n",
       "    }\n",
       "</style>\n",
       "<table border=\"1\" class=\"dataframe\">\n",
       "  <thead>\n",
       "    <tr style=\"text-align: right;\">\n",
       "      <th></th>\n",
       "      <th>color</th>\n",
       "      <th>type</th>\n",
       "      <th>make</th>\n",
       "      <th>stolen</th>\n",
       "      <th>color_code</th>\n",
       "      <th>type_code</th>\n",
       "      <th>make_code</th>\n",
       "    </tr>\n",
       "  </thead>\n",
       "  <tbody>\n",
       "    <tr>\n",
       "      <th>0</th>\n",
       "      <td>Blue</td>\n",
       "      <td>Turbo</td>\n",
       "      <td>German</td>\n",
       "      <td>1</td>\n",
       "      <td>0</td>\n",
       "      <td>1</td>\n",
       "      <td>0</td>\n",
       "    </tr>\n",
       "    <tr>\n",
       "      <th>1</th>\n",
       "      <td>Blue</td>\n",
       "      <td>Turbo</td>\n",
       "      <td>German</td>\n",
       "      <td>0</td>\n",
       "      <td>0</td>\n",
       "      <td>1</td>\n",
       "      <td>0</td>\n",
       "    </tr>\n",
       "    <tr>\n",
       "      <th>2</th>\n",
       "      <td>Blue</td>\n",
       "      <td>Turbo</td>\n",
       "      <td>German</td>\n",
       "      <td>1</td>\n",
       "      <td>0</td>\n",
       "      <td>1</td>\n",
       "      <td>0</td>\n",
       "    </tr>\n",
       "    <tr>\n",
       "      <th>3</th>\n",
       "      <td>Yellow</td>\n",
       "      <td>Turbo</td>\n",
       "      <td>German</td>\n",
       "      <td>0</td>\n",
       "      <td>1</td>\n",
       "      <td>1</td>\n",
       "      <td>0</td>\n",
       "    </tr>\n",
       "    <tr>\n",
       "      <th>4</th>\n",
       "      <td>Yellow</td>\n",
       "      <td>Turbo</td>\n",
       "      <td>Italian</td>\n",
       "      <td>1</td>\n",
       "      <td>1</td>\n",
       "      <td>1</td>\n",
       "      <td>1</td>\n",
       "    </tr>\n",
       "    <tr>\n",
       "      <th>5</th>\n",
       "      <td>Yellow</td>\n",
       "      <td>SUV</td>\n",
       "      <td>Italian</td>\n",
       "      <td>0</td>\n",
       "      <td>1</td>\n",
       "      <td>0</td>\n",
       "      <td>1</td>\n",
       "    </tr>\n",
       "    <tr>\n",
       "      <th>6</th>\n",
       "      <td>Yellow</td>\n",
       "      <td>SUV</td>\n",
       "      <td>Italian</td>\n",
       "      <td>1</td>\n",
       "      <td>1</td>\n",
       "      <td>0</td>\n",
       "      <td>1</td>\n",
       "    </tr>\n",
       "    <tr>\n",
       "      <th>7</th>\n",
       "      <td>Yellow</td>\n",
       "      <td>SUV</td>\n",
       "      <td>German</td>\n",
       "      <td>0</td>\n",
       "      <td>1</td>\n",
       "      <td>0</td>\n",
       "      <td>0</td>\n",
       "    </tr>\n",
       "    <tr>\n",
       "      <th>8</th>\n",
       "      <td>Blue</td>\n",
       "      <td>SUV</td>\n",
       "      <td>Italian</td>\n",
       "      <td>0</td>\n",
       "      <td>0</td>\n",
       "      <td>0</td>\n",
       "      <td>1</td>\n",
       "    </tr>\n",
       "    <tr>\n",
       "      <th>9</th>\n",
       "      <td>Blue</td>\n",
       "      <td>Turbo</td>\n",
       "      <td>Italian</td>\n",
       "      <td>1</td>\n",
       "      <td>0</td>\n",
       "      <td>1</td>\n",
       "      <td>1</td>\n",
       "    </tr>\n",
       "  </tbody>\n",
       "</table>\n",
       "</div>"
      ],
      "text/plain": [
       "    color   type     make  stolen  color_code  type_code  make_code\n",
       "0    Blue  Turbo   German       1           0          1          0\n",
       "1    Blue  Turbo   German       0           0          1          0\n",
       "2    Blue  Turbo   German       1           0          1          0\n",
       "3  Yellow  Turbo   German       0           1          1          0\n",
       "4  Yellow  Turbo  Italian       1           1          1          1\n",
       "5  Yellow    SUV  Italian       0           1          0          1\n",
       "6  Yellow    SUV  Italian       1           1          0          1\n",
       "7  Yellow    SUV   German       0           1          0          0\n",
       "8    Blue    SUV  Italian       0           0          0          1\n",
       "9    Blue  Turbo  Italian       1           0          1          1"
      ]
     },
     "execution_count": 11,
     "metadata": {},
     "output_type": "execute_result"
    }
   ],
   "source": [
    "#Transform your data (if you want)\n",
    "from sklearn.preprocessing import LabelEncoder\n",
    "\n",
    "le = LabelEncoder()\n",
    "stolen['color_code'] = le.fit_transform(stolen['color'])\n",
    "stolen['type_code'] = le.fit_transform(stolen['type'])\n",
    "stolen['make_code'] = le.fit_transform(stolen['make'])\n",
    "stolen.stolen = stolen.stolen.map(dict(Yes=1, No=0))\n",
    "stolen"
   ]
  },
  {
   "cell_type": "code",
   "execution_count": 12,
   "metadata": {},
   "outputs": [
    {
     "data": {
      "text/plain": [
       "BernoulliNB(alpha=1.0, binarize=0.0, class_prior=None, fit_prior=True)"
      ]
     },
     "execution_count": 12,
     "metadata": {},
     "output_type": "execute_result"
    }
   ],
   "source": [
    "#Train a classifier and use it to predict if a Blue German SUV will get stolen (if you want)\n",
    "from sklearn.naive_bayes import BernoulliNB\n",
    "\n",
    "clf_BNB = BernoulliNB()\n",
    "clf_BNB.fit(stolen.iloc[:,4:], stolen.stolen)"
   ]
  },
  {
   "cell_type": "code",
   "execution_count": 13,
   "metadata": {},
   "outputs": [
    {
     "data": {
      "text/html": [
       "<div>\n",
       "<style scoped>\n",
       "    .dataframe tbody tr th:only-of-type {\n",
       "        vertical-align: middle;\n",
       "    }\n",
       "\n",
       "    .dataframe tbody tr th {\n",
       "        vertical-align: top;\n",
       "    }\n",
       "\n",
       "    .dataframe thead th {\n",
       "        text-align: right;\n",
       "    }\n",
       "</style>\n",
       "<table border=\"1\" class=\"dataframe\">\n",
       "  <thead>\n",
       "    <tr style=\"text-align: right;\">\n",
       "      <th></th>\n",
       "      <th>color_code</th>\n",
       "      <th>make_code</th>\n",
       "      <th>type_code</th>\n",
       "    </tr>\n",
       "  </thead>\n",
       "  <tbody>\n",
       "    <tr>\n",
       "      <th>0</th>\n",
       "      <td>0</td>\n",
       "      <td>0</td>\n",
       "      <td>0</td>\n",
       "    </tr>\n",
       "  </tbody>\n",
       "</table>\n",
       "</div>"
      ],
      "text/plain": [
       "   color_code  make_code  type_code\n",
       "0           0          0          0"
      ]
     },
     "execution_count": 13,
     "metadata": {},
     "output_type": "execute_result"
    }
   ],
   "source": [
    "# I am creating a single row dataframe with the value codes for a Blue German SUV.\n",
    "# I will pass it to my classifier to predict if it will get stolen or not.\n",
    "bgs = {'color_code': [0], 'type_code': [0], 'make_code': [0]}\n",
    "BGS = pd.DataFrame(data=bgs)\n",
    "BGS"
   ]
  },
  {
   "cell_type": "code",
   "execution_count": 14,
   "metadata": {},
   "outputs": [
    {
     "data": {
      "text/plain": [
       "array([0])"
      ]
     },
     "execution_count": 14,
     "metadata": {},
     "output_type": "execute_result"
    }
   ],
   "source": [
    "stolen_code = clf_BNB.predict(BGS)\n",
    "stolen_code"
   ]
  },
  {
   "cell_type": "markdown",
   "metadata": {},
   "source": [
    "#### I used the BernoulliNB Naive Bayes Classifiers and the prediction is that the Blue German SUV will not get stolen. I will solve this by hand too, to reconfirm this answer."
   ]
  },
  {
   "cell_type": "markdown",
   "metadata": {},
   "source": [
    "I will use the Naive Bayesian classifier formula to calculate the posterior probability. \n",
    "\n",
    "\\begin{equation*}\n",
    "p(\\text{L |  features})   = \\frac{p(\\text{features | L}) \\times p(\\text{L})}{p(\\text{features})}\n",
    "\\end{equation*}\n",
    "\n",
    "features = Blue, German, SUV\n",
    "<br>L = Yes, No\n",
    "\n",
    "Probability Yes:\\begin{equation*}\n",
    "p(\\text{Yes |  features})   = \\frac{p(\\text{Blue | Yes}) \\times p(\\text{German | Yes})\\times p(\\text{SUV | Yes})\\times p(\\text{Yes})}{p(\\text{features})}\n",
    "\\end{equation*}\n",
    "\n",
    "Probability No:\\begin{equation*}\n",
    "p(\\text{No |  features})   = \\frac{p(\\text{Blue | No}) \\times p(\\text{German | No})\\times p(\\text{SUV | No})\\times p(\\text{No})}{p(\\text{features})}\n",
    "\\end{equation*}\n",
    "\n",
    "Probability Yes:\\begin{equation*}\n",
    "p(\\text{Yes |  features})   = \\frac{(\\text{3/5}) \\times (\\text{2/5})\\times (\\text{1/5})\\times (\\text{5/10})}{p(\\text{features})}\n",
    "\\end{equation*}\n",
    "\n",
    "Probability No:\\begin{equation*}\n",
    "p(\\text{No |  features})   = \\frac{(\\text{2/5}) \\times (\\text{3/5})\\times (\\text{3/5})\\times (\\text{5/10})}{p(\\text{features})}\n",
    "\\end{equation*}\n",
    "\n",
    "Probability Yes:\\begin{equation*}\n",
    "p(\\text{Yes |  features})   = \\frac{(\\text{0.024})}{p(\\text{features})}\n",
    "\\end{equation*}\n",
    "\n",
    "Probability No:\\begin{equation*}\n",
    "p(\\text{No |  features})   = \\frac{(\\text{0.072})}{p(\\text{features})}\n",
    "\\end{equation*}\n",
    "\n",
    "Probability Yes:\\begin{equation*}\n",
    "p(\\text{Yes |  features})   = \\frac{(\\text{0.024})}{p(\\text{features})}\n",
    "\\end{equation*}\n",
    "\n",
    "Probability No:\\begin{equation*}\n",
    "p(\\text{No |  features})   = \\frac{(\\text{0.072})}{p(\\text{features})}\n",
    "\\end{equation*}\n",
    "\n",
    "Probability Yes:\\begin{equation*}\n",
    "p(\\text{Yes |  features})   = \\frac{(\\text{0.024})}{(\\text{0.024+0.072})}\n",
    "\\end{equation*}\n",
    "\n",
    "Probability No:\\begin{equation*}\n",
    "p(\\text{No |  features})   = \\frac{(\\text{0.072})}{(\\text{0.024+0.072})}\n",
    "\\end{equation*}\n",
    "\n",
    "Probability Yes:\\begin{equation*}\n",
    "p(\\text{Yes |  features})   = \\frac{(\\text{0.024})}{(\\text{0.096})}\n",
    "\\end{equation*}\n",
    "\n",
    "Probability No:\\begin{equation*}\n",
    "p(\\text{No |  features})   = \\frac{(\\text{0.072})}{(\\text{0.096})}\n",
    "\\end{equation*}\n",
    "\n",
    "Probability Yes:\\begin{equation*}\n",
    "p(\\text{Yes |  features})   = (\\text{0.025})\n",
    "\\end{equation*}\n",
    "\n",
    "Probability No:\\begin{equation*}\n",
    "p(\\text{No |  features})   = (\\text{0.075})\n",
    "\\end{equation*}"
   ]
  },
  {
   "cell_type": "markdown",
   "metadata": {},
   "source": [
    "#### Since 0.075 > 0.025, the likelihood of a Blue German SUV to get stolen is classified as 'NO'."
   ]
  },
  {
   "cell_type": "code",
   "execution_count": null,
   "metadata": {},
   "outputs": [],
   "source": []
  }
 ],
 "metadata": {
  "kernelspec": {
   "display_name": "Python 3",
   "language": "python",
   "name": "python3"
  },
  "language_info": {
   "codemirror_mode": {
    "name": "ipython",
    "version": 3
   },
   "file_extension": ".py",
   "mimetype": "text/x-python",
   "name": "python",
   "nbconvert_exporter": "python",
   "pygments_lexer": "ipython3",
   "version": "3.7.4"
  }
 },
 "nbformat": 4,
 "nbformat_minor": 2
}
